{
 "cells": [
  {
   "cell_type": "markdown",
   "id": "21ececf5-a39e-421b-b075-716ddd14ccfe",
   "metadata": {},
   "source": [
    "# Projet - IA for HumanForyou"
   ]
  },
  {
   "cell_type": "markdown",
   "id": "da7a6eb5-d022-463e-9a1a-ad941d352a00",
   "metadata": {},
   "source": [
    "|Auteur 1|Auteur 2|Auteur 3|Auteur 4|N° groupe|\n",
    "|---|---|---|---|---|\n",
    "|Nathan Kiss|Paul Claus|Julien Lasserre|Nicolas Wira|5|"
   ]
  },
  {
   "cell_type": "code",
   "execution_count": null,
   "id": "6e808276-b174-4811-9b67-50d78d3d2d8e",
   "metadata": {},
   "outputs": [],
   "source": []
  }
 ],
 "metadata": {
  "kernelspec": {
   "display_name": "Python 3 (ipykernel)",
   "language": "python",
   "name": "python3"
  },
  "language_info": {
   "codemirror_mode": {
    "name": "ipython",
    "version": 3
   },
   "file_extension": ".py",
   "mimetype": "text/x-python",
   "name": "python",
   "nbconvert_exporter": "python",
   "pygments_lexer": "ipython3",
   "version": "3.12.2"
  }
 },
 "nbformat": 4,
 "nbformat_minor": 5
}
